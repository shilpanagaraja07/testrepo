{
    "cells": [
        {
            "cell_type": "code",
            "execution_count": 1,
            "metadata": {},
            "outputs": [
                {
                    "name": "stdout",
                    "output_type": "stream",
                    "text": "Waiting for a Spark session to start...\nSpark Initialization Done! ApplicationId = app-20200816164835-0000\nKERNEL_ID = 1d90e38a-fdba-408f-8500-dbaf655a0144\n"
                },
                {
                    "data": {
                        "text/plain": "[Row(Carname='BMW', Color='red', Age='5', Speed='99', AutoPass='Y'),\n Row(Carname='Volvo', Color='black', Age='7', Speed='86', AutoPass='Y'),\n Row(Carname='VW', Color='gray', Age='8', Speed='87', AutoPass='N'),\n Row(Carname='VW', Color='white', Age='7', Speed='88', AutoPass='Y'),\n Row(Carname='Ford', Color='white', Age='2', Speed='111', AutoPass='Y')]"
                    },
                    "execution_count": 1,
                    "metadata": {},
                    "output_type": "execute_result"
                }
            ],
            "source": "# The code was removed by Watson Studio for sharing."
        },
        {
            "cell_type": "code",
            "execution_count": null,
            "metadata": {},
            "outputs": [],
            "source": ""
        }
    ],
    "metadata": {
        "kernelspec": {
            "display_name": "Python 3.6 with Spark",
            "language": "python3",
            "name": "python36"
        },
        "language_info": {
            "codemirror_mode": {
                "name": "ipython",
                "version": 3
            },
            "file_extension": ".py",
            "mimetype": "text/x-python",
            "name": "python",
            "nbconvert_exporter": "python",
            "pygments_lexer": "ipython3",
            "version": "3.6.8"
        }
    },
    "nbformat": 4,
    "nbformat_minor": 1
}